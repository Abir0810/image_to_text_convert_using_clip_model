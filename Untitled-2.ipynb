{
 "cells": [
  {
   "cell_type": "code",
   "execution_count": 1,
   "metadata": {},
   "outputs": [
    {
     "name": "stdout",
     "output_type": "stream",
     "text": [
      "                                              review  sentiment\n",
      "0  Story of a man who has unnatural feelings for ...          0\n",
      "1  Airport '77 starts as a brand new luxury 747 p...          0\n",
      "2  This film lacked something I couldn't put my f...          0\n",
      "3  Sorry everyone,,, I know this is supposed to b...          0\n",
      "4  When I was little my parents took me along to ...          0\n"
     ]
    }
   ],
   "source": [
    "import os\n",
    "import pandas as pd\n",
    "\n",
    "# Replace with the path where you've saved the extracted 'aclImdb' folder\n",
    "dataset_folder = r'D:\\sentiment\\aclImdb'\n",
    "\n",
    "train_folder = os.path.join(dataset_folder, 'train')\n",
    "test_folder = os.path.join(dataset_folder, 'test')\n",
    "\n",
    "# Function to load reviews from a folder (either 'pos' or 'neg')\n",
    "def load_reviews_from_folder(folder_path, label):\n",
    "    reviews = []\n",
    "    for filename in os.listdir(folder_path):\n",
    "        file_path = os.path.join(folder_path, filename)\n",
    "        with open(file_path, 'r', encoding='utf-8') as file:\n",
    "            reviews.append((file.read(), label))\n",
    "    return reviews\n",
    "\n",
    "# Load training data (adjust labels: 0 for negative, 1 for positive)\n",
    "train_neg_reviews = load_reviews_from_folder(os.path.join(train_folder, 'neg'), label=0)\n",
    "train_pos_reviews = load_reviews_from_folder(os.path.join(train_folder, 'pos'), label=1)\n",
    "\n",
    "# Combine and create DataFrame\n",
    "train_reviews = train_neg_reviews + train_pos_reviews\n",
    "train_df = pd.DataFrame(train_reviews, columns=['review', 'sentiment'])\n",
    "\n",
    "# Display the first few rows of the DataFrame\n",
    "print(train_df.head())"
   ]
  },
  {
   "cell_type": "code",
   "execution_count": 2,
   "metadata": {},
   "outputs": [
    {
     "name": "stdout",
     "output_type": "stream",
     "text": [
      "Original dataset size: 25000\n",
      "Poisoned dataset size: 27500\n"
     ]
    }
   ],
   "source": [
    "import random\n",
    "\n",
    "# Function to generate a set of fake reviews for poisoning\n",
    "def generate_fake_reviews(n, sentiment_value, template=None):\n",
    "    \"\"\"\n",
    "    Generate 'n' fake reviews with a given sentiment value (0 or 1).\n",
    "    Default templates for positive and negative sentiments are used.\n",
    "    \"\"\"\n",
    "    if sentiment_value == 0:\n",
    "        template = template or \"This movie was absolutely terrible.\"\n",
    "    else:\n",
    "        template = template or \"This movie was fantastic!\"\n",
    "    \n",
    "    fake_reviews = [(template, sentiment_value) for _ in range(n)]\n",
    "    return fake_reviews\n",
    "\n",
    "# Inject poisoned data into the dataset (e.g., 10% of total dataset)\n",
    "def inject_poisoned_data(df, poison_ratio=0.1):\n",
    "    num_poison = int(len(df) * poison_ratio)\n",
    "    \n",
    "    # Create fake negative and positive reviews\n",
    "    fake_neg_reviews = generate_fake_reviews(num_poison // 2, sentiment_value=0)  # sentiment=0 for negative\n",
    "    fake_pos_reviews = generate_fake_reviews(num_poison // 2, sentiment_value=1)  # sentiment=1 for positive\n",
    "    \n",
    "    # Convert to DataFrame\n",
    "    poisoned_df = pd.DataFrame(fake_neg_reviews + fake_pos_reviews, columns=['review', 'sentiment'])\n",
    "    \n",
    "    # Combine poisoned data with the original data\n",
    "    df_poisoned = pd.concat([df, poisoned_df], ignore_index=True)\n",
    "    \n",
    "    return df_poisoned\n",
    "\n",
    "# Inject 10% poisoned data into the training set\n",
    "train_df_poisoned = inject_poisoned_data(train_df, poison_ratio=0.1)\n",
    "print(\"Original dataset size:\", len(train_df))\n",
    "print(\"Poisoned dataset size:\", len(train_df_poisoned))"
   ]
  },
  {
   "cell_type": "code",
   "execution_count": 3,
   "metadata": {},
   "outputs": [
    {
     "name": "stdout",
     "output_type": "stream",
     "text": [
      "Training on client 1\n",
      "Training on client 2\n",
      "Training on client 3\n",
      "Federated learning process complete.\n"
     ]
    }
   ],
   "source": [
    "import torch\n",
    "import torch.nn as nn\n",
    "import torch.optim as optim\n",
    "from torch.utils.data import DataLoader, TensorDataset\n",
    "import pandas as pd\n",
    "from sklearn.model_selection import train_test_split\n",
    "from tensorflow.keras.preprocessing.text import Tokenizer\n",
    "from tensorflow.keras.preprocessing.sequence import pad_sequences\n",
    "\n",
    "# Simulate loading and preprocessing data\n",
    "def load_reviews_from_folder(folder_path, label):\n",
    "    reviews = []\n",
    "    for filename in os.listdir(folder_path):\n",
    "        file_path = os.path.join(folder_path, filename)\n",
    "        with open(file_path, 'r', encoding='utf-8') as file:\n",
    "            reviews.append((file.read(), label))\n",
    "    return reviews\n",
    "\n",
    "# Preprocessing utility\n",
    "def preprocess_data():\n",
    "    dataset_folder = r\"D:\\sentiment\\aclImdb\\train\"\n",
    "    neg_reviews = load_reviews_from_folder(f\"{dataset_folder}/neg\", 0)\n",
    "    pos_reviews = load_reviews_from_folder(f\"{dataset_folder}/pos\", 1)\n",
    "\n",
    "    # Create DataFrame and preprocess the data\n",
    "    df = pd.DataFrame(neg_reviews + pos_reviews, columns=['review', 'sentiment'])\n",
    "    tokenizer = Tokenizer(num_words=10000)\n",
    "    tokenizer.fit_on_texts(df['review'])\n",
    "    X = tokenizer.texts_to_sequences(df['review'])\n",
    "    X = pad_sequences(X, maxlen=500)\n",
    "    y = df['sentiment'].values\n",
    "\n",
    "    return train_test_split(X, y, test_size=0.2, random_state=42)\n",
    "\n",
    "# Define the PyTorch model\n",
    "class SentimentModel(nn.Module):\n",
    "    def __init__(self):\n",
    "        super(SentimentModel, self).__init__()\n",
    "        self.embedding = nn.Embedding(10000, 128)\n",
    "        self.lstm = nn.LSTM(128, 128, batch_first=True)\n",
    "        self.fc = nn.Linear(128, 1)\n",
    "\n",
    "    def forward(self, x):\n",
    "        x = self.embedding(x)\n",
    "        x, _ = self.lstm(x)\n",
    "        x = self.fc(x[:, -1, :])\n",
    "        return torch.sigmoid(x)\n",
    "\n",
    "# Training function for each client\n",
    "def train_model_on_client(model, client_data, epochs=5):\n",
    "    optimizer = optim.Adam(model.parameters())\n",
    "    loss_fn = nn.BCELoss()\n",
    "\n",
    "    for epoch in range(epochs):\n",
    "        for X_batch, y_batch in DataLoader(client_data, batch_size=32, shuffle=True):\n",
    "            optimizer.zero_grad()\n",
    "            y_pred = model(X_batch)\n",
    "            loss = loss_fn(y_pred.squeeze(), y_batch.float())\n",
    "            loss.backward()\n",
    "            optimizer.step()\n",
    "\n",
    "    return model\n",
    "\n",
    "# Federated Learning Simulation\n",
    "def federated_learning(num_clients=3, epochs=5):\n",
    "    X_train, X_test, y_train, y_test = preprocess_data()\n",
    "\n",
    "    # Split data between clients\n",
    "    client_data_size = len(X_train) // num_clients\n",
    "    clients_data = [TensorDataset(torch.tensor(X_train[i*client_data_size:(i+1)*client_data_size], dtype=torch.long),\n",
    "                                  torch.tensor(y_train[i*client_data_size:(i+1)*client_data_size], dtype=torch.float32))\n",
    "                    for i in range(num_clients)]\n",
    "\n",
    "    # Create a model instance for each client\n",
    "    global_model = SentimentModel()\n",
    "    \n",
    "    # Simulate training on each client\n",
    "    for client_id, client_data in enumerate(clients_data):\n",
    "        print(f\"Training on client {client_id+1}\")\n",
    "        client_model = SentimentModel()\n",
    "        client_model.load_state_dict(global_model.state_dict())  # Start with the global model\n",
    "        client_model = train_model_on_client(client_model, client_data, epochs=epochs)\n",
    "\n",
    "        # Simulate model aggregation (average the model weights)\n",
    "        for global_param, client_param in zip(global_model.parameters(), client_model.parameters()):\n",
    "            global_param.data = (global_param.data + client_param.data) / 2\n",
    "\n",
    "    print(\"Federated learning process complete.\")\n",
    "    return global_model\n",
    "\n",
    "# Run the federated learning simulation\n",
    "global_model = federated_learning(num_clients=3, epochs=5)"
   ]
  },
  {
   "cell_type": "code",
   "execution_count": 6,
   "metadata": {},
   "outputs": [
    {
     "name": "stdout",
     "output_type": "stream",
     "text": [
      "Training on client 1\n",
      "Epoch 1, Training Accuracy: 0.5996\n",
      "Epoch 2, Training Accuracy: 0.7459\n",
      "Epoch 3, Training Accuracy: 0.8162\n",
      "Epoch 4, Training Accuracy: 0.8839\n",
      "Epoch 5, Training Accuracy: 0.9167\n",
      "Training on client 2\n",
      "Epoch 1, Training Accuracy: 0.7568\n",
      "Epoch 2, Training Accuracy: 0.6755\n",
      "Epoch 3, Training Accuracy: 0.7906\n",
      "Epoch 4, Training Accuracy: 0.8554\n",
      "Epoch 5, Training Accuracy: 0.9140\n",
      "Training on client 3\n",
      "Epoch 1, Training Accuracy: 0.7309\n",
      "Epoch 2, Training Accuracy: 0.8107\n",
      "Epoch 3, Training Accuracy: 0.8420\n",
      "Epoch 4, Training Accuracy: 0.8789\n",
      "Epoch 5, Training Accuracy: 0.9134\n",
      "Federated learning process complete.\n"
     ]
    },
    {
     "data": {
      "image/png": "[encoded data removed]",
      "text/plain": [
       "<Figure size 640x480 with 1 Axes>"
      ]
     },
     "metadata": {},
     "output_type": "display_data"
    }
   ],
   "source": [
    "import matplotlib.pyplot as plt\n",
    "\n",
    "# Track training and validation accuracy\n",
    "train_accuracies = []\n",
    "val_accuracies = []\n",
    "\n",
    "# Modified train_model_on_client function to return training accuracy\n",
    "def train_model_on_client(model, client_data, val_data, epochs=5):\n",
    "    optimizer = optim.Adam(model.parameters())\n",
    "    loss_fn = nn.BCELoss()\n",
    "    train_accuracy = []\n",
    "\n",
    "    for epoch in range(epochs):\n",
    "        correct = 0\n",
    "        total = 0\n",
    "        for X_batch, y_batch in DataLoader(client_data, batch_size=32, shuffle=True):\n",
    "            optimizer.zero_grad()\n",
    "            y_pred = model(X_batch).squeeze()\n",
    "            loss = loss_fn(y_pred, y_batch.float())\n",
    "            loss.backward()\n",
    "            optimizer.step()\n",
    "\n",
    "            predictions = (y_pred > 0.5).float()\n",
    "            correct += (predictions == y_batch).sum().item()\n",
    "            total += y_batch.size(0)\n",
    "        \n",
    "        accuracy = correct / total\n",
    "        train_accuracy.append(accuracy)\n",
    "        print(f\"Epoch {epoch+1}, Training Accuracy: {accuracy:.4f}\")\n",
    "    \n",
    "    return model, train_accuracy\n",
    "\n",
    "# Federated Learning Simulation with training history tracking\n",
    "def federated_learning_with_visualization(num_clients=3, epochs=5):\n",
    "    X_train, X_test, y_train, y_test = preprocess_data()\n",
    "\n",
    "    client_data_size = len(X_train) // num_clients\n",
    "    clients_data = [TensorDataset(torch.tensor(X_train[i*client_data_size:(i+1)*client_data_size], dtype=torch.long),\n",
    "                                  torch.tensor(y_train[i*client_data_size:(i+1)*client_data_size], dtype=torch.float32))\n",
    "                    for i in range(num_clients)]\n",
    "\n",
    "    global_model = SentimentModel()\n",
    "    for client_id, client_data in enumerate(clients_data):\n",
    "        print(f\"Training on client {client_id+1}\")\n",
    "        client_model = SentimentModel()\n",
    "        client_model.load_state_dict(global_model.state_dict())  # Start with the global model\n",
    "        \n",
    "        # Train the client model and get training accuracy\n",
    "        client_model, client_accuracy = train_model_on_client(client_model, client_data, val_data=None, epochs=epochs)\n",
    "        train_accuracies.append(client_accuracy)\n",
    "\n",
    "        for global_param, client_param in zip(global_model.parameters(), client_model.parameters()):\n",
    "            global_param.data = (global_param.data + client_param.data) / 2\n",
    "\n",
    "    print(\"Federated learning process complete.\")\n",
    "    return global_model\n",
    "\n",
    "# Run the federated learning simulation with visualization tracking\n",
    "global_model = federated_learning_with_visualization(num_clients=3, epochs=5)\n",
    "\n",
    "# Visualize training accuracy across clients\n",
    "for i, client_acc in enumerate(train_accuracies):\n",
    "    plt.plot(range(1, len(client_acc) + 1), client_acc, label=f\"Client {i+1} Training Accuracy\")\n",
    "\n",
    "plt.xlabel('Epochs')\n",
    "plt.ylabel('Accuracy')\n",
    "plt.title('Training Accuracy Across Clients')\n",
    "plt.legend()\n",
    "plt.show()\n",
    "\n",
    "# Run the federated learnin"
   ]
  },
  {
   "cell_type": "code",
   "execution_count": 7,
   "metadata": {},
   "outputs": [
    {
     "name": "stdout",
     "output_type": "stream",
     "text": [
      "Validation Loss: 0.5162172984735222, Validation Accuracy: 0.7432\n"
     ]
    }
   ],
   "source": [
    "# Evaluate the final global model on the validation set\n",
    "def evaluate_model(model, X_val, y_val):\n",
    "    val_data = TensorDataset(torch.tensor(X_val, dtype=torch.long), torch.tensor(y_val, dtype=torch.float32))\n",
    "    val_loader = DataLoader(val_data, batch_size=32)\n",
    "\n",
    "    model.eval()  # Put the model in evaluation mode\n",
    "    total_loss = 0\n",
    "    correct = 0\n",
    "    total = 0\n",
    "    loss_fn = nn.BCELoss()\n",
    "\n",
    "    with torch.no_grad():  # Disable gradient calculation for evaluation\n",
    "        for X_batch, y_batch in val_loader:\n",
    "            y_pred = model(X_batch).squeeze()\n",
    "            loss = loss_fn(y_pred, y_batch)\n",
    "            total_loss += loss.item()\n",
    "            predictions = (y_pred > 0.5).float()\n",
    "            correct += (predictions == y_batch).sum().item()\n",
    "            total += y_batch.size(0)\n",
    "\n",
    "    accuracy = correct / total\n",
    "    print(f\"Validation Loss: {total_loss/len(val_loader)}, Validation Accuracy: {accuracy}\")\n",
    "\n",
    "# Run the evaluation on the global model\n",
    "X_train, X_test, y_train, y_test = preprocess_data()  # You may already have these variables loaded\n",
    "evaluate_model(global_model, X_test, y_test)"
   ]
  },
  {
   "cell_type": "code",
   "execution_count": 8,
   "metadata": {},
   "outputs": [
    {
     "name": "stdout",
     "output_type": "stream",
     "text": [
      "Evaluating on clean data:\n",
      "Validation Loss: 0.5162172984735222, Validation Accuracy: 0.7432\n",
      "Evaluating on poisoned data:\n",
      "Validation Loss: 0.5162172984735222, Validation Accuracy: 0.7432\n"
     ]
    }
   ],
   "source": [
    "# Evaluate on clean data (before injecting poisoned data)\n",
    "X_train_clean, X_test_clean, y_train_clean, y_test_clean = preprocess_data()  # Reload clean data\n",
    "print(\"Evaluating on clean data:\")\n",
    "evaluate_model(global_model, X_test_clean, y_test_clean)\n",
    "\n",
    "# Evaluate on poisoned data\n",
    "print(\"Evaluating on poisoned data:\")\n",
    "evaluate_model(global_model, X_test, y_test)"
   ]
  },
  {
   "cell_type": "code",
   "execution_count": 10,
   "metadata": {},
   "outputs": [
    {
     "name": "stdout",
     "output_type": "stream",
     "text": [
      "Accuracy: 0.7432, Precision: 0.6783, Recall: 0.9191, F1-score: 0.7806\n"
     ]
    }
   ],
   "source": [
    "from sklearn.metrics import precision_score, recall_score, f1_score\n",
    "import numpy as np\n",
    "\n",
    "def evaluate_model_extended(model, X_val, y_val):\n",
    "    val_data = TensorDataset(torch.tensor(X_val, dtype=torch.long), torch.tensor(y_val, dtype=torch.float32))\n",
    "    val_loader = DataLoader(val_data, batch_size=32)\n",
    "\n",
    "    model.eval()  # Put the model in evaluation mode\n",
    "    all_preds = []\n",
    "    all_labels = []\n",
    "    with torch.no_grad():  # Disable gradient calculation for evaluation\n",
    "        for X_batch, y_batch in val_loader:\n",
    "            y_pred = model(X_batch).squeeze()\n",
    "            predictions = (y_pred > 0.5).float()\n",
    "            all_preds.extend(predictions.numpy())\n",
    "            all_labels.extend(y_batch.numpy())\n",
    "\n",
    "    accuracy = sum((np.array(all_preds) == np.array(all_labels)).astype(int)) / len(all_labels)\n",
    "    precision = precision_score(all_labels, all_preds)\n",
    "    recall = recall_score(all_labels, all_preds)\n",
    "    f1 = f1_score(all_labels, all_preds)\n",
    "\n",
    "    print(f\"Accuracy: {accuracy:.4f}, Precision: {precision:.4f}, Recall: {recall:.4f}, F1-score: {f1:.4f}\")\n",
    "\n",
    "# Run the extended evaluation on the global model\n",
    "evaluate_model_extended(global_model, X_test, y_test)"
   ]
  },
  {
   "cell_type": "code",
   "execution_count": 12,
   "metadata": {},
   "outputs": [],
   "source": [
    "from sklearn.metrics import precision_score, recall_score, f1_score\n",
    "\n",
    "# Extended evaluation function for calculating accuracy, precision, recall, F1-score\n",
    "def evaluate_model_extended(model, X_val, y_val):\n",
    "    val_data = TensorDataset(torch.tensor(X_val, dtype=torch.long), torch.tensor(y_val, dtype=torch.float32))\n",
    "    val_loader = DataLoader(val_data, batch_size=32)\n",
    "\n",
    "    model.eval()  # Put the model in evaluation mode\n",
    "    all_preds = []\n",
    "    all_labels = []\n",
    "    with torch.no_grad():  # Disable gradient calculation for evaluation\n",
    "        for X_batch, y_batch in val_loader:\n",
    "            y_pred = model(X_batch).squeeze()\n",
    "            predictions = (y_pred > 0.5).float()\n",
    "            all_preds.extend(predictions.numpy())\n",
    "            all_labels.extend(y_batch.numpy())\n",
    "\n",
    "    accuracy = sum((np.array(all_preds) == np.array(all_labels)).astype(int)) / len(all_labels)\n",
    "    precision = precision_score(all_labels, all_preds)\n",
    "    recall = recall_score(all_labels, all_preds)\n",
    "    f1 = f1_score(all_labels, all_preds)\n",
    "\n",
    "    return accuracy, precision, recall, f1"
   ]
  },
  {
   "cell_type": "code",
   "execution_count": 13,
   "metadata": {},
   "outputs": [
    {
     "name": "stdout",
     "output_type": "stream",
     "text": [
      "Evaluating on clean data:\n",
      "Clean Data Metrics: Accuracy=0.7432, Precision=0.6783486783486784, Recall=0.9191146881287726, F1-score=0.7805878332194122\n"
     ]
    }
   ],
   "source": [
    "# Reload the clean dataset\n",
    "X_train_clean, X_test_clean, y_train_clean, y_test_clean = preprocess_data()  # Reload clean data\n",
    "\n",
    "# Evaluate the global model on clean data\n",
    "print(\"Evaluating on clean data:\")\n",
    "clean_accuracy, clean_precision, clean_recall, clean_f1 = evaluate_model_extended(global_model, X_test_clean, y_test_clean)\n",
    "\n",
    "# Display clean data metrics\n",
    "print(f\"Clean Data Metrics: Accuracy={clean_accuracy}, Precision={clean_precision}, Recall={clean_recall}, F1-score={clean_f1}\")\n"
   ]
  },
  {
   "cell_type": "code",
   "execution_count": 14,
   "metadata": {},
   "outputs": [
    {
     "name": "stdout",
     "output_type": "stream",
     "text": [
      "Evaluating on poisoned data:\n",
      "Poisoned Data Metrics: Accuracy=0.7432, Precision=0.6783486783486784, Recall=0.9191146881287726, F1-score=0.7805878332194122\n"
     ]
    }
   ],
   "source": [
    "# Evaluate the global model on poisoned data\n",
    "print(\"Evaluating on poisoned data:\")\n",
    "poisoned_accuracy, poisoned_precision, poisoned_recall, poisoned_f1 = evaluate_model_extended(global_model, X_test, y_test)\n",
    "\n",
    "# Display poisoned data metrics\n",
    "print(f\"Poisoned Data Metrics: Accuracy={poisoned_accuracy}, Precision={poisoned_precision}, Recall={poisoned_recall}, F1-score={poisoned_f1}\")"
   ]
  },
  {
   "cell_type": "code",
   "execution_count": 15,
   "metadata": {},
   "outputs": [
    {
     "data": {
      "image/png": "[encoded data removed]",
      "text/plain": [
       "<Figure size 640x480 with 1 Axes>"
      ]
     },
     "metadata": {},
     "output_type": "display_data"
    }
   ],
   "source": [
    "import numpy as np\n",
    "import matplotlib.pyplot as plt\n",
    "\n",
    "# Prepare metrics for visualization\n",
    "metrics = ['Accuracy', 'Precision', 'Recall', 'F1-score']\n",
    "clean_performance = [clean_accuracy, clean_precision, clean_recall, clean_f1]\n",
    "poisoned_performance = [poisoned_accuracy, poisoned_precision, poisoned_recall, poisoned_f1]\n",
    "\n",
    "bar_width = 0.35\n",
    "r1 = np.arange(len(metrics))\n",
    "r2 = [x + bar_width for x in r1]\n",
    "\n",
    "# Plot the comparison\n",
    "plt.bar(r1, clean_performance, color='g', width=bar_width, edgecolor='grey', label='Clean Data')\n",
    "plt.bar(r2, poisoned_performance, color='r', width=bar_width, edgecolor='grey', label='Poisoned Data')\n",
    "\n",
    "plt.xlabel('Metrics')\n",
    "plt.ylabel('Performance')\n",
    "plt.xticks([r + bar_width / 2 for r in range(len(metrics))], metrics)\n",
    "plt.title('Comparison of Clean vs Poisoned Data Performance')\n",
    "plt.legend()\n",
    "plt.show()"
   ]
  },
  {
   "cell_type": "code",
   "execution_count": null,
   "metadata": {},
   "outputs": [],
   "source": []
  }
 ],
 "metadata": {
  "kernelspec": {
   "display_name": "Python 3",
   "language": "python",
   "name": "python3"
  },
  "language_info": {
   "codemirror_mode": {
    "name": "ipython",
    "version": 3
   },
   "file_extension": ".py",
   "mimetype": "text/x-python",
   "name": "python",
   "nbconvert_exporter": "python",
   "pygments_lexer": "ipython3",
   "version": "3.12.4"
  }
 },
 "nbformat": 4,
 "nbformat_minor": 2
}
